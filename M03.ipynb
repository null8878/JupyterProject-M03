{
 "cells": [
  {
   "metadata": {
    "ExecuteTime": {
     "end_time": "2025-06-25T16:12:02.025461Z",
     "start_time": "2025-06-25T16:12:02.016036Z"
    }
   },
   "cell_type": "code",
   "source": [
    "things = [\"mozzarella\", \"cinderella\", \"salmonella\"]\n",
    "things[1] = things[1].capitalize()\n",
    "print(things)\n"
   ],
   "id": "25638b613b5c7b6f",
   "outputs": [
    {
     "name": "stdout",
     "output_type": "stream",
     "text": [
      "['mozzarella', 'Cinderella', 'salmonella']\n"
     ]
    }
   ],
   "execution_count": 6
  },
  {
   "metadata": {
    "ExecuteTime": {
     "end_time": "2025-06-25T16:15:51.179086Z",
     "start_time": "2025-06-25T16:15:51.172403Z"
    }
   },
   "cell_type": "code",
   "source": [
    "things[0] = things[0].upper()\n",
    "print(things)\n",
    "#removes item\n",
    "things.remove(\"salmonella\")\n",
    "print(things)\n"
   ],
   "id": "90f93c4418c2839c",
   "outputs": [
    {
     "name": "stdout",
     "output_type": "stream",
     "text": [
      "['MOZZARELLA', 'Cinderella', 'salmonella']\n",
      "['MOZZARELLA', 'Cinderella']\n"
     ]
    }
   ],
   "execution_count": 8
  },
  {
   "metadata": {
    "ExecuteTime": {
     "end_time": "2025-06-25T16:16:47.268427Z",
     "start_time": "2025-06-25T16:16:47.260807Z"
    }
   },
   "cell_type": "code",
   "source": [
    "surprise = [\"Groucho\", \"Chico\", \"Harpo\"]\n",
    "\n",
    "surprise[-1] = surprise[-1].lower()[::-1].capitalize()\n",
    "print(surprise)\n",
    "\n"
   ],
   "id": "a9fda099621ac6a5",
   "outputs": [
    {
     "name": "stdout",
     "output_type": "stream",
     "text": [
      "['Groucho', 'Chico', 'Oprah']\n"
     ]
    }
   ],
   "execution_count": 10
  },
  {
   "metadata": {
    "ExecuteTime": {
     "end_time": "2025-06-25T16:21:32.216796Z",
     "start_time": "2025-06-25T16:21:32.208943Z"
    }
   },
   "cell_type": "code",
   "source": [
    "def good():\n",
    "    return ['Harry', 'Ron', 'Hermione']\n",
    "\n",
    "#outputs the names in the list\n",
    "print(good())\n"
   ],
   "id": "c8ec65399d8570c1",
   "outputs": [
    {
     "name": "stdout",
     "output_type": "stream",
     "text": [
      "['Harry', 'Ron', 'Hermione']\n"
     ]
    }
   ],
   "execution_count": 11
  },
  {
   "metadata": {
    "ExecuteTime": {
     "end_time": "2025-06-25T16:21:53.753827Z",
     "start_time": "2025-06-25T16:21:53.748229Z"
    }
   },
   "cell_type": "code",
   "source": [
    "def get_odds():\n",
    "    for number in range(10):\n",
    "        if number % 2 != 0:\n",
    "            yield number\n",
    "\n",
    "# Find and print the third value\n",
    "count = 0\n",
    "for num in get_odds():\n",
    "    count += 1\n",
    "    if count == 3:\n",
    "        print(num)\n",
    "        break\n"
   ],
   "id": "ebe948e7e0f694b6",
   "outputs": [
    {
     "name": "stdout",
     "output_type": "stream",
     "text": [
      "5\n"
     ]
    }
   ],
   "execution_count": 12
  }
 ],
 "metadata": {
  "kernelspec": {
   "display_name": "Python [conda env:base] *",
   "language": "python",
   "name": "conda-base-py"
  },
  "language_info": {
   "codemirror_mode": {
    "name": "ipython",
    "version": 2
   },
   "file_extension": ".py",
   "mimetype": "text/x-python",
   "name": "python",
   "nbconvert_exporter": "python",
   "pygments_lexer": "ipython2",
   "version": "2.7.6"
  }
 },
 "nbformat": 4,
 "nbformat_minor": 5
}
